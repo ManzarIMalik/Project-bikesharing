{
 "nbformat": 4,
 "nbformat_minor": 2,
 "metadata": {
  "language_info": {
   "name": "python",
   "codemirror_mode": {
    "name": "ipython",
    "version": 3
   },
   "version": "3.7.6-final"
  },
  "orig_nbformat": 2,
  "file_extension": ".py",
  "mimetype": "text/x-python",
  "name": "python",
  "npconvert_exporter": "python",
  "pygments_lexer": "ipython3",
  "version": 3,
  "kernelspec": {
   "name": "python3",
   "display_name": "Python 3"
  }
 },
 "cells": [
  {
   "cell_type": "code",
   "execution_count": 1,
   "metadata": {},
   "outputs": [],
   "source": [
    "import numpy as np"
   ]
  },
  {
   "cell_type": "code",
   "execution_count": 4,
   "metadata": {},
   "outputs": [],
   "source": [
    "inputs = np.array([[0.5, -0.2, 0.1]])\n",
    "targets = np.array([[0.4]])\n",
    "test_w_i_h = np.array([[0.1, -0.2],\n",
    "                       [0.4, 0.5],\n",
    "                       [-0.3, 0.2]])\n",
    "test_w_h_o = np.array([[0.3],\n",
    "                       [-0.1]])"
   ]
  },
  {
   "cell_type": "code",
   "execution_count": 13,
   "metadata": {},
   "outputs": [],
   "source": [
    "def sigmoid(x):\n",
    "    return 1 / (1 + np.exp(-x))"
   ]
  },
  {
   "cell_type": "code",
   "execution_count": 10,
   "metadata": {},
   "outputs": [
    {
     "output_type": "stream",
     "name": "stdout",
     "text": "(1, 3) (3, 2) (2, 1)\n"
    }
   ],
   "source": [
    "print(inputs.shape, test_w_i_h.shape, test_w_h_o.shape)"
   ]
  },
  {
   "cell_type": "code",
   "execution_count": 21,
   "metadata": {},
   "outputs": [
    {
     "output_type": "stream",
     "name": "stdout",
     "text": "Netowrk Size:  (1, 3) (3, 2) (2, 1)\nInput values:  [[ 0.5 -0.2  0.1]]\nHidden-layer Output:  [[0.4850045  0.45512111]]\nOutput-layer Output: [[0.5249765]]\n"
    }
   ],
   "source": [
    "inputs = np.array([[0.5, -0.2, 0.1]])\n",
    "targets = np.array([[0.4]])\n",
    "test_w_i_h = np.array([[0.1, -0.2],\n",
    "                       [0.4, 0.5],\n",
    "                       [-0.3, 0.2]])\n",
    "test_w_h_o = np.array([[0.3],\n",
    "                       [-0.1]])\n",
    "\n",
    "def sigmoid(x):\n",
    "    return 1 / (1 + np.exp(-x))\n",
    "         \n",
    "print(\"Netowrk Size: \", inputs.shape, test_w_i_h.shape, test_w_h_o.shape)\n",
    "\n",
    "print(\"Input values: \", inputs)\n",
    "\n",
    "hidden_layer_in = np.dot(inputs, test_w_i_h)\n",
    "hidden_layer_out = sigmoid(hidden_layer_in)\n",
    "\n",
    "print('Hidden-layer Output: ', hidden_layer_out)\n",
    "\n",
    "output_layer_in = np.dot(hidden_layer_out, test_w_h_o)\n",
    "output_layer_out = sigmoid(output_layer_in)\n",
    "\n",
    "print('Output-layer Output:', output_layer_out)"
   ]
  },
  {
   "cell_type": "markdown",
   "metadata": {},
   "source": [
    "## Backpropagation"
   ]
  },
  {
   "cell_type": "code",
   "execution_count": 23,
   "metadata": {},
   "outputs": [
    {
     "output_type": "execute_result",
     "data": {
      "text/plain": "array([[ 0.1, -0.2],\n       [ 0.4,  0.5],\n       [-0.3,  0.2]])"
     },
     "metadata": {},
     "execution_count": 23
    }
   ],
   "source": [
    "test_w_i_h"
   ]
  },
  {
   "cell_type": "code",
   "execution_count": 24,
   "metadata": {},
   "outputs": [
    {
     "output_type": "execute_result",
     "data": {
      "text/plain": "array([[ 0.3],\n       [-0.1]])"
     },
     "metadata": {},
     "execution_count": 24
    }
   ],
   "source": [
    "test_w_h_o"
   ]
  },
  {
   "cell_type": "code",
   "execution_count": 25,
   "metadata": {},
   "outputs": [
    {
     "output_type": "execute_result",
     "data": {
      "text/plain": "1"
     },
     "metadata": {},
     "execution_count": 25
    }
   ],
   "source": [
    "inputs.shape[0]"
   ]
  },
  {
   "cell_type": "code",
   "execution_count": 28,
   "metadata": {},
   "outputs": [
    {
     "output_type": "error",
     "ename": "NameError",
     "evalue": "name 'delta_weights_i_h' is not defined",
     "traceback": [
      "\u001b[1;31m---------------------------------------------------------------------------\u001b[0m",
      "\u001b[1;31mNameError\u001b[0m                                 Traceback (most recent call last)",
      "\u001b[1;32m<ipython-input-28-542941ee7612>\u001b[0m in \u001b[0;36m<module>\u001b[1;34m\u001b[0m\n\u001b[0;32m     12\u001b[0m \u001b[1;33m\u001b[0m\u001b[0m\n\u001b[0;32m     13\u001b[0m \u001b[1;31m# Weight step (input to hidden)\u001b[0m\u001b[1;33m\u001b[0m\u001b[1;33m\u001b[0m\u001b[1;33m\u001b[0m\u001b[0m\n\u001b[1;32m---> 14\u001b[1;33m \u001b[0mdelta_weights_i_h\u001b[0m \u001b[1;33m+=\u001b[0m  \u001b[0mhidden_error_term\u001b[0m \u001b[1;33m*\u001b[0m \u001b[0minputs\u001b[0m\u001b[1;33m[\u001b[0m\u001b[1;33m:\u001b[0m\u001b[1;33m,\u001b[0m \u001b[1;32mNone\u001b[0m\u001b[1;33m]\u001b[0m\u001b[1;33m\u001b[0m\u001b[1;33m\u001b[0m\u001b[0m\n\u001b[0m\u001b[0;32m     15\u001b[0m \u001b[1;31m# Weight step (hidden to output)\u001b[0m\u001b[1;33m\u001b[0m\u001b[1;33m\u001b[0m\u001b[1;33m\u001b[0m\u001b[0m\n\u001b[0;32m     16\u001b[0m \u001b[0mdelta_weights_h_o\u001b[0m \u001b[1;33m+=\u001b[0m \u001b[0moutput_error_term\u001b[0m \u001b[1;33m*\u001b[0m \u001b[0mhidden_outputs\u001b[0m\u001b[1;33m[\u001b[0m\u001b[1;33m:\u001b[0m\u001b[1;33m,\u001b[0m \u001b[1;32mNone\u001b[0m\u001b[1;33m]\u001b[0m\u001b[1;33m\u001b[0m\u001b[1;33m\u001b[0m\u001b[0m\n",
      "\u001b[1;31mNameError\u001b[0m: name 'delta_weights_i_h' is not defined"
     ]
    }
   ],
   "source": [
    "learnrate = 0.5\n",
    "n_records = inputs.shape[0]\n",
    "error = targets - output_layer_out # Output layer error is the difference between desired target and actual output.\n",
    "      \n",
    "# TODO: Calculate the hidden layer's contribution to the error\n",
    "hidden_error = np.dot(test_w_h_o, error) # hidden_outputs * (1-hidden_outputs) # f'(h)\n",
    "\n",
    "# TODO: Backpropagated error terms - Replace these values with your calculations.\n",
    "output_error_term = error * output_layer_out * (1-output_layer_out) # Check\n",
    "        \n",
    "hidden_error_term = hidden_error * hidden_layer_out * (1-hidden_layer_out) # np.dot(self.weights_hidden_to_output,output_error_term) * hidden_error\n",
    "        \n",
    "# Weight step (input to hidden)\n",
    "\n",
    "delta_weights_i_h +=  hidden_error_term * inputs[:, None]\n",
    "# Weight step (hidden to output)\n",
    "delta_weights_h_o += output_error_term * hidden_outputs[:, None]"
   ]
  },
  {
   "cell_type": "code",
   "execution_count": null,
   "metadata": {},
   "outputs": [],
   "source": [
    "test_w_h_o += learnrate * delta_weights_h_o / n_records\n",
    "test_w_i_h += learnrate * delta_weights_i_h / n_records"
   ]
  }
 ]
}